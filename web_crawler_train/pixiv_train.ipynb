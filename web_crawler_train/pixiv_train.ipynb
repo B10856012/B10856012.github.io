{
 "cells": [
  {
   "cell_type": "code",
   "execution_count": 1,
   "metadata": {},
   "outputs": [],
   "source": [
    "import requests\n",
    "from bs4 import BeautifulSoup\n",
    "from selenium import webdriver\n",
    "import time\n",
    "# 開啟Chrome瀏覽器\n",
    "browser = webdriver.Chrome()\n",
    "#browser = webdriver.Firefox()"
   ]
  },
  {
   "cell_type": "code",
   "execution_count": null,
   "metadata": {},
   "outputs": [],
   "source": [
    "acc=''#宣告帳號\n",
    "pw=''#宣告密碼"
   ]
  },
  {
   "cell_type": "code",
   "execution_count": null,
   "metadata": {},
   "outputs": [],
   "source": [
    "url = \"https://www.pixiv.net/\"#宣告要去的網址"
   ]
  },
  {
   "cell_type": "code",
   "execution_count": null,
   "metadata": {},
   "outputs": [],
   "source": [
    "def Signin(acc):#建立一個自動登入的函式\n",
    "    browser.get(url)\n",
    "    \n",
    "    while True:#點擊登入\n",
    "        try:\n",
    "            browser.find_element_by_link_text(\"登入\").click()\n",
    "            break\n",
    "        except:\n",
    "            time.sleep(1)\n",
    "        \n",
    "    while True:#填入帳號密碼\n",
    "        try:\n",
    "            browser.find_element_by_xpath(\"//input[@autocomplete='username']\").send_keys(acc)\n",
    "            browser.find_element_by_xpath(\"//input[@autocomplete='current-password']\").send_keys(pw)\n",
    "            break\n",
    "        except:\n",
    "            time.sleep(1)\n",
    "        \n",
    "    while True:#送出帳號密碼\n",
    "        try:\n",
    "            browser.find_element_by_xpath(\"//*[@id='LoginComponent']/form/button\").click()\n",
    "            break\n",
    "        except:\n",
    "            time.sleep(1)"
   ]
  },
  {
   "cell_type": "code",
   "execution_count": null,
   "metadata": {},
   "outputs": [],
   "source": [
    "Signin(acc)#執行登入函式"
   ]
  },
  {
   "cell_type": "code",
   "execution_count": null,
   "metadata": {},
   "outputs": [],
   "source": [
    "time.sleep(3)\n",
    "browser.get(\"https://www.pixiv.net/ranking.php?mode=monthly\")#跳轉到本月排名的網址"
   ]
  },
  {
   "cell_type": "code",
   "execution_count": null,
   "metadata": {},
   "outputs": [],
   "source": [
    "def toMonthRank():#模仿使用者點擊式進入本月排名的函式\n",
    "    while True:\n",
    "        try:\n",
    "            browser.find_element_by_xpath(\"//*[@id='root']/div[2]/div[1]/div[1]/div[1]/div/div[1]/div[1]/button\").click()\n",
    "            break\n",
    "        except:\n",
    "            time.sleep(1)\n",
    "    while True:\n",
    "        try:\n",
    "            browser.find_element_by_xpath(\"/html/body/div[3]/div/div[2]/div/div[1]/ul/li[8]/a\").click()\n",
    "            break\n",
    "        except:\n",
    "            time.sleep(1)\n",
    "    while True:\n",
    "        try:\n",
    "            browser.find_element_by_xpath(\"//*[@id='wrapper']/div[1]/div/div[2]/div/nav[1]/ul/li[3]/a\").click()\n",
    "            break\n",
    "        except:\n",
    "            time.sleep(1)"
   ]
  },
  {
   "cell_type": "code",
   "execution_count": null,
   "metadata": {},
   "outputs": [],
   "source": [
    "toMonthRank()#執行模仿使用者點擊式進入本月排名的網址"
   ]
  },
  {
   "cell_type": "code",
   "execution_count": null,
   "metadata": {},
   "outputs": [],
   "source": [
    "import requests\n",
    "from bs4 import BeautifulSoup"
   ]
  },
  {
   "cell_type": "code",
   "execution_count": null,
   "metadata": {},
   "outputs": [],
   "source": [
    "url = \"https://www.pixiv.net/ranking.php?mode=monthly\"\n",
    "headers = {'user-agent': 'Mozilla/5.0 (Windows NT 10.0; Win64; x64) AppleWebKit/537.36 (KHTML, like Gecko) Chrome/88.0.4324.96 Safari/537.36'}\n",
    "response = requests.get(url, headers=headers)#抓取網頁元素、避開房爬蟲機制\n",
    "response.encoding = 'utf8'\n",
    "#print(response.text)"
   ]
  },
  {
   "cell_type": "code",
   "execution_count": null,
   "metadata": {},
   "outputs": [],
   "source": [
    "soup = BeautifulSoup(response.text, 'lxml')#解析網頁元素\n",
    "print(soup.prettify())#排版並印出"
   ]
  },
  {
   "cell_type": "code",
   "execution_count": null,
   "metadata": {},
   "outputs": [],
   "source": [
    "results = soup.find_all(\"div\", class_=\"_layout-thumbnail\")#找到每個圖檔的區塊\n",
    "for result in results:#讀取每一筆區塊\n",
    "    print(result.select_one(\"img\").get(\"data-src\"))#讀取每一區塊內的img標籤的圖片網址"
   ]
  },
  {
   "cell_type": "code",
   "execution_count": null,
   "metadata": {},
   "outputs": [],
   "source": []
  }
 ],
 "metadata": {
  "kernelspec": {
   "display_name": "Python 3",
   "language": "python",
   "name": "python3"
  },
  "language_info": {
   "codemirror_mode": {
    "name": "ipython",
    "version": 3
   },
   "file_extension": ".py",
   "mimetype": "text/x-python",
   "name": "python",
   "nbconvert_exporter": "python",
   "pygments_lexer": "ipython3",
   "version": "3.8.5"
  }
 },
 "nbformat": 4,
 "nbformat_minor": 2
}
